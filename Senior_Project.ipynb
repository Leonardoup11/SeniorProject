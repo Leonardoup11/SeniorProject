{
  "cells": [
    {
      "cell_type": "markdown",
      "metadata": {
        "id": "view-in-github",
        "colab_type": "text"
      },
      "source": [
        "<a href=\"https://colab.research.google.com/github/Leonardoup11/SeniorProject/blob/main/Senior_Project.ipynb\" target=\"_parent\"><img src=\"https://colab.research.google.com/assets/colab-badge.svg\" alt=\"Open In Colab\"/></a>"
      ]
    },
    {
      "cell_type": "markdown",
      "source": [
        "**Install** **tflearn**"
      ],
      "metadata": {
        "id": "NTz3SQY_cgoe"
      }
    },
    {
      "cell_type": "code",
      "execution_count": 9,
      "metadata": {
        "colab": {
          "base_uri": "https://localhost:8080/"
        },
        "id": "MGtxy6ck9BT_",
        "outputId": "ba15d087-a0fd-4711-f382-20333d8d373b"
      },
      "outputs": [
        {
          "output_type": "stream",
          "name": "stdout",
          "text": [
            "Requirement already satisfied: tflearn in /usr/local/lib/python3.7/dist-packages (0.5.0)\n",
            "Requirement already satisfied: numpy in /usr/local/lib/python3.7/dist-packages (from tflearn) (1.21.5)\n",
            "Requirement already satisfied: six in /usr/local/lib/python3.7/dist-packages (from tflearn) (1.15.0)\n",
            "Requirement already satisfied: Pillow in /usr/local/lib/python3.7/dist-packages (from tflearn) (7.1.2)\n"
          ]
        }
      ],
      "source": [
        "!pip install tflearn"
      ]
    },
    {
      "cell_type": "markdown",
      "source": [
        "**Install chatterbot**"
      ],
      "metadata": {
        "id": "JhagPxxAcobC"
      }
    },
    {
      "cell_type": "code",
      "execution_count": 10,
      "metadata": {
        "colab": {
          "base_uri": "https://localhost:8080/"
        },
        "id": "3RQsG3A-r4ve",
        "outputId": "d8abf3ba-4332-47ba-fdef-1def5ae7deea"
      },
      "outputs": [
        {
          "output_type": "stream",
          "name": "stdout",
          "text": [
            "Requirement already satisfied: chatterbot in /usr/local/lib/python3.7/dist-packages (1.0.8)\n",
            "Requirement already satisfied: mathparse<0.2,>=0.1 in /usr/local/lib/python3.7/dist-packages (from chatterbot) (0.1.2)\n",
            "Requirement already satisfied: sqlalchemy<1.4,>=1.3 in /usr/local/lib/python3.7/dist-packages (from chatterbot) (1.3.24)\n",
            "Requirement already satisfied: pytz in /usr/local/lib/python3.7/dist-packages (from chatterbot) (2018.9)\n",
            "Requirement already satisfied: python-dateutil<2.9,>=2.8 in /usr/local/lib/python3.7/dist-packages (from chatterbot) (2.8.2)\n",
            "Requirement already satisfied: six>=1.5 in /usr/local/lib/python3.7/dist-packages (from python-dateutil<2.9,>=2.8->chatterbot) (1.15.0)\n"
          ]
        }
      ],
      "source": [
        "!pip install chatterbot"
      ]
    },
    {
      "cell_type": "markdown",
      "source": [
        "**Import packages and libraries**"
      ],
      "metadata": {
        "id": "BI7KEAO7cy9c"
      }
    },
    {
      "cell_type": "code",
      "execution_count": 11,
      "metadata": {
        "colab": {
          "base_uri": "https://localhost:8080/"
        },
        "id": "eCZYGFa_8IDF",
        "outputId": "cf4422bd-c8c2-42ca-9e96-54afa356cc96"
      },
      "outputs": [
        {
          "output_type": "stream",
          "name": "stdout",
          "text": [
            "[nltk_data] Downloading package punkt to /root/nltk_data...\n",
            "[nltk_data]   Package punkt is already up-to-date!\n"
          ]
        }
      ],
      "source": [
        "from flask import Flask, render_template, request\n",
        "from chatterbot import ChatBot\n",
        "from chatterbot.trainers import ChatterBotCorpusTrainer\n",
        "from chatterbot.trainers import ListTrainer\n",
        "\n",
        "app = Flask(__name__)\n",
        "\n",
        "\n",
        "import nltk\n",
        "from nltk.stem.lancaster import LancasterStemmer\n",
        "stemmer = LancasterStemmer()\n",
        "\n",
        "import tflearn\n",
        "import numpy\n",
        "import json\n",
        "import pandas as pd\n",
        "import pickle\n",
        "import tensorflow\n",
        "import random\n",
        "\n",
        "#download punk\n",
        "\n",
        "nltk.download('punkt')\n",
        "\n",
        "\n",
        "#Import URL from GitHub JSON file\n",
        "url = (\"https://raw.githubusercontent.com/Leonardoup11/peddrinnn/main/lenguage.json\")\n",
        "intents = pd.read_json(url)\n",
        "\n",
        "#Name JSON FILE\n",
        "data = intents\n",
        "try:\n",
        "    with open(\"data.pickle\", \"rb\") as f:\n",
        "        words, labels, training, output = pickle.load(f)\n",
        "except:\n",
        "    words = []\n",
        "    labels = []\n",
        "    docs_x = []\n",
        "    docs_y = []\n",
        "\n",
        "    for intent in data[\"intents\"]:\n",
        "        for pattern in intent[\"patterns\"]:\n",
        "            wrds = nltk.word_tokenize(pattern)\n",
        "            words.extend(wrds)\n",
        "            docs_x.append(wrds)\n",
        "            docs_y.append(intent[\"tag\"])\n",
        "\n",
        "        if intent[\"tag\"] not in labels:\n",
        "            labels.append(intent[\"tag\"])\n",
        "\n",
        "    words = [stemmer.stem(w.lower()) for w in words if w != \"?\"]\n",
        "    words = sorted(list(set(words)))\n",
        "\n",
        "    labels = sorted(labels)\n",
        "\n",
        "    training = []\n",
        "    output = []\n",
        "\n",
        "    out_empty = [0 for _ in range(len(labels))]\n",
        "\n",
        "    for x, doc in enumerate(docs_x):\n",
        "        bag = []\n",
        "\n",
        "        wrds = [stemmer.stem(w.lower()) for w in doc]\n",
        "\n",
        "        for w in words:\n",
        "            if w in wrds:\n",
        "                bag.append(1)\n",
        "            else:\n",
        "                bag.append(0)\n",
        "\n",
        "        output_row = out_empty[:]\n",
        "        output_row[labels.index(docs_y[x])] = 1\n",
        "# Train Data\n",
        "        training.append(bag)\n",
        "        output.append(output_row)\n",
        "\n",
        "\n",
        "    training = numpy.array(training)\n",
        "    output = numpy.array(output)\n",
        "\n",
        "    with open(\"data.pickle\", \"wb\") as f:\n",
        "        pickle.dump((words, labels, training, output), f)\n",
        "\n",
        "from tensorflow.python.framework import ops\n",
        "ops.reset_default_graph()\n",
        "\n",
        "\n",
        "# Activation Function SOFTMAX\n",
        "\n",
        "net = tflearn.input_data(shape=[None, len(training[0])])\n",
        "net = tflearn.fully_connected(net, 8)\n",
        "net = tflearn.fully_connected(net, 8)\n",
        "net = tflearn.fully_connected(net, len(output[0]), activation=\"softmax\")\n",
        "net = tflearn.regression(net)\n",
        "\n",
        "model = tflearn.DNN(net)\n"
      ]
    },
    {
      "cell_type": "markdown",
      "metadata": {
        "id": "05Ble2wM-uvF"
      },
      "source": [
        "**Training the model**"
      ]
    },
    {
      "cell_type": "code",
      "execution_count": 12,
      "metadata": {
        "colab": {
          "base_uri": "https://localhost:8080/"
        },
        "id": "D9PP5nQX-pd2",
        "outputId": "bdf581cd-7809-4e28-f38a-99d9decdfbea"
      },
      "outputs": [
        {
          "output_type": "stream",
          "name": "stdout",
          "text": [
            "Training Step: 13999  | total loss: \u001b[1m\u001b[32m0.03218\u001b[0m\u001b[0m | time: 0.094s\n",
            "| Adam | epoch: 1000 | loss: 0.03218 - acc: 0.9830 -- iter: 104/109\n",
            "Training Step: 14000  | total loss: \u001b[1m\u001b[32m0.02980\u001b[0m\u001b[0m | time: 0.104s\n",
            "| Adam | epoch: 1000 | loss: 0.02980 - acc: 0.9847 -- iter: 109/109\n",
            "--\n",
            "INFO:tensorflow:/content/model.tflearn is not in all_model_checkpoint_paths. Manually adding it.\n"
          ]
        }
      ],
      "source": [
        "\n",
        "\n",
        "model.fit(training, output, n_epoch=1000, batch_size=8, show_metric=True)\n",
        "model.save(\"model.tflearn\")\n",
        "\n",
        "\n"
      ]
    },
    {
      "cell_type": "code",
      "execution_count": 13,
      "metadata": {
        "id": "ALnfUodD-vJ5"
      },
      "outputs": [],
      "source": [
        "def bag_of_words(s, words):\n",
        "    bag = [0 for _ in range(len(words))]\n",
        "\n",
        "    s_words = nltk.word_tokenize(s)\n",
        "    s_words = [stemmer.stem(word.lower()) for word in s_words]\n",
        "\n",
        "    for se in s_words:\n",
        "        for i, w in enumerate(words):\n",
        "            if w == se:\n",
        "                bag[i] = 1\n",
        "            \n",
        "    return numpy.array(bag)"
      ]
    },
    {
      "cell_type": "markdown",
      "source": [
        "**Input recognization / Answers**"
      ],
      "metadata": {
        "id": "fJsJl30EdpeC"
      }
    },
    {
      "cell_type": "code",
      "execution_count": null,
      "metadata": {
        "colab": {
          "base_uri": "https://localhost:8080/"
        },
        "id": "Su8LKh7m_-87",
        "outputId": "68cd232f-5445-4f41-a413-a6016ba9b010"
      },
      "outputs": [
        {
          "metadata": {
            "tags": null
          },
          "name": "stdout",
          "output_type": "stream",
          "text": [
            "Start talking with Pedro your AI assistant (type quit to stop)!\n",
            " I hope all is going well, how may I help you\n",
            "Hello! how can I assist you?\n",
            "I'm Pedro!\n",
            "My name is Pedro.\n",
            "It's been a rough day but so far so good, how about yourself?\n",
            "Smoothies and Cookies!\n",
            "The smoothie is $5 dollars and the cookie is $2 dolars\n",
            "Hi there, how can I help?\n",
            "I'm Pedro!\n",
            "How could I help you today\n",
            "I am doing great! How are you? \n",
            "Smoothies and Cookies!\n",
            "The smoothie is $5 dollars and the cookie is $2 dolars\n",
            "Urbiola's is open Monday through Saturday from 4pm to 12am \n",
            "The weather is nice over here, perfect for a fresh smoothie and a delicious cookie\n",
            "How do billboards talk? Sign language\n",
            "What do you call an ant who fights crime? A vigilANTe!\n",
            "Did you know that The entire world's population could fit inside Los Angeles\n",
            "It's been a rough day but so far so good, how about yourself?\n",
            "The smoothie is $5 dollars and the cookie is $2 dolars\n",
            "We do have great promotions! specially on mondays and tuesdays, buy one cookie get one free\n"
          ]
        }
      ],
      "source": [
        " def chat():\n",
        "    print(\"Start talking with Pedro your AI assistant (type quit to stop)!\")\n",
        "    while True:\n",
        "        inp = input(\"You: \")\n",
        "        if inp.lower() == \"quit\":\n",
        "            break\n",
        "\n",
        "        results = model.predict([bag_of_words(inp, words)])\n",
        "        results_index = numpy.argmax(results)\n",
        "        tag = labels[results_index]\n",
        "\n",
        "        for tg in data[\"intents\"]:\n",
        "            if tg['tag'] == tag:\n",
        "                responses = tg['responses']\n",
        "\n",
        "        print(random.choice(responses))\n",
        "chat()"
      ]
    },
    {
      "cell_type": "code",
      "execution_count": null,
      "metadata": {
        "id": "5bLVxlauufbo"
      },
      "outputs": [],
      "source": [
        ""
      ]
    }
  ],
  "metadata": {
    "colab": {
      "name": "Senior Project",
      "provenance": [],
      "authorship_tag": "ABX9TyNwBAwtsRIgpAihkJD50CAR",
      "include_colab_link": true
    },
    "kernelspec": {
      "display_name": "Python 3",
      "name": "python3"
    },
    "language_info": {
      "name": "python"
    }
  },
  "nbformat": 4,
  "nbformat_minor": 0
}